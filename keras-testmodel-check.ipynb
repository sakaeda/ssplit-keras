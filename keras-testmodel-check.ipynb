{
 "cells": [
  {
   "cell_type": "markdown",
   "metadata": {},
   "source": [
    "# 目的\n",
    "sampleモデルファイルの内容を確認するためのノート。\n"
   ]
  },
  {
   "cell_type": "code",
   "execution_count": 1,
   "metadata": {
    "collapsed": false
   },
   "outputs": [
    {
     "name": "stderr",
     "output_type": "stream",
     "text": [
      "Using TensorFlow backend.\n"
     ]
    }
   ],
   "source": [
    "from keras.models import Sequential, load_model\n",
    "from keras.datasets import mnist\n",
    "from keras.layers import Dense, Dropout, Activation, Flatten, Embedding, Reshape,Convolution1D\n",
    "from keras.utils import np_utils\n",
    "from keras import backend as K\n",
    "import numpy as np"
   ]
  },
  {
   "cell_type": "markdown",
   "metadata": {},
   "source": [
    "サンプルとして、隠れ層一つの３層NNをMnistで作成する。"
   ]
  },
  {
   "cell_type": "code",
   "execution_count": 33,
   "metadata": {
    "collapsed": true
   },
   "outputs": [],
   "source": [
    "(X_train, y_train), (X_test, y_test) = mnist.load_data()"
   ]
  },
  {
   "cell_type": "code",
   "execution_count": 34,
   "metadata": {
    "collapsed": true
   },
   "outputs": [],
   "source": [
    "X_train = X_train.reshape(X_train.shape[0], 28, 28, 1)\n",
    "X_test = X_test.reshape(X_test.shape[0], 28, 28, 1)\n",
    "input_shape = (28, 28, 1)"
   ]
  },
  {
   "cell_type": "code",
   "execution_count": 35,
   "metadata": {
    "collapsed": false
   },
   "outputs": [],
   "source": [
    "X_train = X_train.astype('float32')\n",
    "X_test = X_test.astype('float32')\n",
    "X_train /= 255\n",
    "X_test /= 255"
   ]
  },
  {
   "cell_type": "code",
   "execution_count": 36,
   "metadata": {
    "collapsed": true
   },
   "outputs": [],
   "source": [
    "Y_train = np_utils.to_categorical(y_train, 10)"
   ]
  },
  {
   "cell_type": "code",
   "execution_count": 37,
   "metadata": {
    "collapsed": true
   },
   "outputs": [],
   "source": [
    "Y_test = np_utils.to_categorical(y_test, 10)"
   ]
  },
  {
   "cell_type": "code",
   "execution_count": 38,
   "metadata": {
    "collapsed": false
   },
   "outputs": [],
   "source": [
    "model = Sequential()\n",
    "model.add(Flatten(input_shape=input_shape))\n",
    "model.add(Dense(128,input_dim=28*28))\n",
    "model.add(Activation('relu'))\n",
    "model.add(Dense(10,input_dim=100))\n",
    "model.add(Activation('softmax'))\n",
    "model.compile(loss='categorical_crossentropy',optimizer='adadelta',metrics=['accuracy'])"
   ]
  },
  {
   "cell_type": "code",
   "execution_count": 39,
   "metadata": {
    "collapsed": false
   },
   "outputs": [
    {
     "name": "stdout",
     "output_type": "stream",
     "text": [
      "Train on 60000 samples, validate on 10000 samples\n",
      "Epoch 1/10\n",
      "60000/60000 [==============================] - 3s - loss: 0.4733 - acc: 0.8756 - val_loss: 0.2689 - val_acc: 0.9264\n",
      "Epoch 2/10\n",
      "60000/60000 [==============================] - 2s - loss: 0.2462 - acc: 0.9321 - val_loss: 0.2133 - val_acc: 0.9407\n",
      "Epoch 3/10\n",
      "60000/60000 [==============================] - 2s - loss: 0.1993 - acc: 0.9438 - val_loss: 0.1810 - val_acc: 0.9492\n",
      "Epoch 4/10\n",
      "60000/60000 [==============================] - 2s - loss: 0.1689 - acc: 0.9530 - val_loss: 0.1567 - val_acc: 0.9552\n",
      "Epoch 5/10\n",
      "60000/60000 [==============================] - 2s - loss: 0.1469 - acc: 0.9583 - val_loss: 0.1414 - val_acc: 0.9600\n",
      "Epoch 6/10\n",
      "60000/60000 [==============================] - 2s - loss: 0.1300 - acc: 0.9636 - val_loss: 0.1322 - val_acc: 0.9633\n",
      "Epoch 7/10\n",
      "60000/60000 [==============================] - 2s - loss: 0.1169 - acc: 0.9670 - val_loss: 0.1202 - val_acc: 0.9653\n",
      "Epoch 8/10\n",
      "60000/60000 [==============================] - 2s - loss: 0.1062 - acc: 0.9709 - val_loss: 0.1131 - val_acc: 0.9670\n",
      "Epoch 9/10\n",
      "60000/60000 [==============================] - 2s - loss: 0.0970 - acc: 0.9729 - val_loss: 0.1060 - val_acc: 0.9692\n",
      "Epoch 10/10\n",
      "60000/60000 [==============================] - 2s - loss: 0.0892 - acc: 0.9750 - val_loss: 0.1008 - val_acc: 0.9699\n"
     ]
    },
    {
     "data": {
      "text/plain": [
       "<keras.callbacks.History at 0x1f401fd84e0>"
      ]
     },
     "execution_count": 39,
     "metadata": {},
     "output_type": "execute_result"
    }
   ],
   "source": [
    "model.fit(X_train,Y_train,batch_size=100,nb_epoch=10,verbose=1,validation_data=(X_test,Y_test))"
   ]
  },
  {
   "cell_type": "markdown",
   "metadata": {},
   "source": [
    "# 単体テスト用データ作成\n",
    "Convolution1D, Dense, Embedding, Flatten, Relu, Sigmoid, Softmax, Tanhの単位テストのために、入力データ、モデルデータ、正解データをそれぞれ作成し、出力する。\n",
    "\n",
    "## Convolution1D"
   ]
  },
  {
   "cell_type": "code",
   "execution_count": 26,
   "metadata": {
    "collapsed": false
   },
   "outputs": [],
   "source": [
    "# Model 作成\n",
    "modelConv = Sequential()\n",
    "modelConv.add(Convolution1D(2, 3, border_mode='same', input_shape=(10, 12)))\n",
    "modelConv.compile(loss='categorical_crossentropy', optimizer='adadelta', metrics=['accuracy'])"
   ]
  },
  {
   "cell_type": "code",
   "execution_count": 27,
   "metadata": {
    "collapsed": false
   },
   "outputs": [],
   "source": [
    "# 入力データ\n",
    "X_train = np.random.rand(1, 10, 12)"
   ]
  },
  {
   "cell_type": "code",
   "execution_count": 28,
   "metadata": {
    "collapsed": true
   },
   "outputs": [],
   "source": [
    "y_train = np.random.randint(2, size=(10))"
   ]
  },
  {
   "cell_type": "code",
   "execution_count": 29,
   "metadata": {
    "collapsed": false
   },
   "outputs": [],
   "source": [
    "Y_train = np_utils.to_categorical(y_train, 2)"
   ]
  },
  {
   "cell_type": "code",
   "execution_count": 30,
   "metadata": {
    "collapsed": false
   },
   "outputs": [],
   "source": [
    "Y_train = Y_train.reshape(1, 10, 2)"
   ]
  },
  {
   "cell_type": "code",
   "execution_count": 33,
   "metadata": {
    "collapsed": false
   },
   "outputs": [
    {
     "name": "stdout",
     "output_type": "stream",
     "text": [
      "Epoch 1/10\n",
      "1/1 [==============================] - 0s - loss: 4.8849 - acc: 0.5000\n",
      "Epoch 2/10\n",
      "1/1 [==============================] - 0s - loss: 4.8838 - acc: 0.5000\n",
      "Epoch 3/10\n",
      "1/1 [==============================] - 0s - loss: 4.8838 - acc: 0.5000\n",
      "Epoch 4/10\n",
      "1/1 [==============================] - 0s - loss: 4.8828 - acc: 0.5000\n",
      "Epoch 5/10\n",
      "1/1 [==============================] - 0s - loss: 4.8821 - acc: 0.5000\n",
      "Epoch 6/10\n",
      "1/1 [==============================] - 0s - loss: 4.8818 - acc: 0.5000\n",
      "Epoch 7/10\n",
      "1/1 [==============================] - 0s - loss: 4.8806 - acc: 0.5000\n",
      "Epoch 8/10\n",
      "1/1 [==============================] - 0s - loss: 4.8809 - acc: 0.5000\n",
      "Epoch 9/10\n",
      "1/1 [==============================] - 0s - loss: 4.8801 - acc: 0.5000\n",
      "Epoch 10/10\n",
      "1/1 [==============================] - 0s - loss: 4.8795 - acc: 0.5000\n"
     ]
    },
    {
     "data": {
      "text/plain": [
       "<keras.callbacks.History at 0x232a808b4e0>"
      ]
     },
     "execution_count": 33,
     "metadata": {},
     "output_type": "execute_result"
    }
   ],
   "source": [
    "modelConv.fit(X_train, Y_train, nb_epoch=10, verbose=1)"
   ]
  },
  {
   "cell_type": "code",
   "execution_count": 34,
   "metadata": {
    "collapsed": true
   },
   "outputs": [],
   "source": [
    "# 正解データ\n",
    "Y_gold = modelConv.predict(X_train)"
   ]
  },
  {
   "cell_type": "code",
   "execution_count": 35,
   "metadata": {
    "collapsed": false
   },
   "outputs": [
    {
     "data": {
      "text/plain": [
       "array([[[ -2.88217455e-01,   6.81861579e-01],\n",
       "        [ -5.38490713e-01,   6.20526560e-02],\n",
       "        [ -3.18091482e-01,  -7.48135746e-02],\n",
       "        [ -2.35468820e-02,   4.07085158e-02],\n",
       "        [ -4.85583872e-01,   2.24703625e-01],\n",
       "        [ -4.50441420e-01,   2.71697552e-03],\n",
       "        [ -1.76823571e-01,   4.89799917e-01],\n",
       "        [ -1.23186730e-01,   5.74909784e-02],\n",
       "        [ -3.36253673e-01,  -8.40994492e-02],\n",
       "        [  5.95557541e-02,   3.20440391e-04]]], dtype=float32)"
      ]
     },
     "execution_count": 35,
     "metadata": {},
     "output_type": "execute_result"
    }
   ],
   "source": [
    "Y_gold"
   ]
  },
  {
   "cell_type": "code",
   "execution_count": 39,
   "metadata": {
    "collapsed": false
   },
   "outputs": [],
   "source": [
    "# 保存\n",
    "Y_gold = Y_gold.reshape(10,2)"
   ]
  },
  {
   "cell_type": "code",
   "execution_count": 48,
   "metadata": {
    "collapsed": false
   },
   "outputs": [],
   "source": [
    "goldF = open('./data/unitTest/convolutino1d_gold.csv', 'w')\n",
    "for data in Y_gold:\n",
    "    goldF.write('%1.15f' % data[0] + ',' '%1.15f' % data[1] + '\\n')\n",
    "goldF.close()"
   ]
  },
  {
   "cell_type": "code",
   "execution_count": 51,
   "metadata": {
    "collapsed": false
   },
   "outputs": [
    {
     "data": {
      "text/plain": [
       "(1, 10, 12)"
      ]
     },
     "execution_count": 51,
     "metadata": {},
     "output_type": "execute_result"
    }
   ],
   "source": [
    "X_train.shape"
   ]
  },
  {
   "cell_type": "code",
   "execution_count": 52,
   "metadata": {
    "collapsed": true
   },
   "outputs": [],
   "source": [
    "X_train = X_train.reshape(10, 12)"
   ]
  },
  {
   "cell_type": "code",
   "execution_count": 66,
   "metadata": {
    "collapsed": false
   },
   "outputs": [],
   "source": [
    "inputF = open('./data/unitTest/convolutino1d_input.csv','w')\n",
    "for i in range(0,10):\n",
    "    inputF.write(','.join(['%1.15f' % d for d in X_train[i]]) + '\\n')\n",
    "inputF.close()"
   ]
  },
  {
   "cell_type": "code",
   "execution_count": 67,
   "metadata": {
    "collapsed": true
   },
   "outputs": [],
   "source": [
    "modelConv.save('./data/unitTest/convolutino1d_model.h5')"
   ]
  },
  {
   "cell_type": "markdown",
   "metadata": {},
   "source": [
    "## Dense\n"
   ]
  },
  {
   "cell_type": "code",
   "execution_count": 101,
   "metadata": {
    "collapsed": true
   },
   "outputs": [],
   "source": [
    "modelDense = Sequential()\n",
    "modelDense.add(Dense(2,input_dim=10))\n",
    "modelDense.compile(loss='categorical_crossentropy',optimizer='adadelta',metrics=['accuracy'])"
   ]
  },
  {
   "cell_type": "code",
   "execution_count": 102,
   "metadata": {
    "collapsed": true
   },
   "outputs": [],
   "source": [
    "X_input_dense = np.random.rand(10)"
   ]
  },
  {
   "cell_type": "code",
   "execution_count": 103,
   "metadata": {
    "collapsed": false
   },
   "outputs": [],
   "source": [
    "X_input_dense = X_input_dense.reshape(1, 10)"
   ]
  },
  {
   "cell_type": "code",
   "execution_count": 104,
   "metadata": {
    "collapsed": true
   },
   "outputs": [],
   "source": [
    "y_input_dense = [1]"
   ]
  },
  {
   "cell_type": "code",
   "execution_count": 105,
   "metadata": {
    "collapsed": false
   },
   "outputs": [],
   "source": [
    "Y_input_dense = np_utils.to_categorical(y_input_dense, 2)"
   ]
  },
  {
   "cell_type": "code",
   "execution_count": 106,
   "metadata": {
    "collapsed": false
   },
   "outputs": [
    {
     "data": {
      "text/plain": [
       "(1, 2)"
      ]
     },
     "execution_count": 106,
     "metadata": {},
     "output_type": "execute_result"
    }
   ],
   "source": [
    "Y_input_dense.shape"
   ]
  },
  {
   "cell_type": "code",
   "execution_count": 107,
   "metadata": {
    "collapsed": false
   },
   "outputs": [
    {
     "name": "stdout",
     "output_type": "stream",
     "text": [
      "Epoch 1/10\n",
      "1/1 [==============================] - 0s - loss: 1.1921e-07 - acc: 1.0000\n",
      "Epoch 2/10\n",
      "1/1 [==============================] - 0s - loss: 1.1921e-07 - acc: 1.0000\n",
      "Epoch 3/10\n",
      "1/1 [==============================] - 0s - loss: 1.1921e-07 - acc: 1.0000\n",
      "Epoch 4/10\n",
      "1/1 [==============================] - 0s - loss: 1.1921e-07 - acc: 1.0000\n",
      "Epoch 5/10\n",
      "1/1 [==============================] - 0s - loss: 1.1921e-07 - acc: 1.0000\n",
      "Epoch 6/10\n",
      "1/1 [==============================] - 0s - loss: 1.1921e-07 - acc: 1.0000\n",
      "Epoch 7/10\n",
      "1/1 [==============================] - 0s - loss: 1.1921e-07 - acc: 1.0000\n",
      "Epoch 8/10\n",
      "1/1 [==============================] - 0s - loss: 1.1921e-07 - acc: 1.0000\n",
      "Epoch 9/10\n",
      "1/1 [==============================] - 0s - loss: 1.1921e-07 - acc: 1.0000\n",
      "Epoch 10/10\n",
      "1/1 [==============================] - 0s - loss: 1.1921e-07 - acc: 1.0000\n"
     ]
    },
    {
     "data": {
      "text/plain": [
       "<keras.callbacks.History at 0x232a96b1358>"
      ]
     },
     "execution_count": 107,
     "metadata": {},
     "output_type": "execute_result"
    }
   ],
   "source": [
    "modelDense.fit(X_input_dense, Y_input_dense)"
   ]
  },
  {
   "cell_type": "code",
   "execution_count": 108,
   "metadata": {
    "collapsed": true
   },
   "outputs": [],
   "source": [
    "Y_gold_dense = modelDense.predict(X_input_dense)"
   ]
  },
  {
   "cell_type": "code",
   "execution_count": 109,
   "metadata": {
    "collapsed": false
   },
   "outputs": [],
   "source": [
    "Y_gold_dense = Y_gold_dense.reshape(2)"
   ]
  },
  {
   "cell_type": "code",
   "execution_count": 110,
   "metadata": {
    "collapsed": false
   },
   "outputs": [],
   "source": [
    "X_input_dense = X_input_dense.reshape(10)"
   ]
  },
  {
   "cell_type": "code",
   "execution_count": 111,
   "metadata": {
    "collapsed": false
   },
   "outputs": [],
   "source": [
    "# 保存\n",
    "inputF = open('./data/unitTest/dense/dense_input.csv','w')\n",
    "inputF.write(','.join(['%1.15f' % d for d in X_input_dense]) + '\\n')\n",
    "inputF.close()"
   ]
  },
  {
   "cell_type": "code",
   "execution_count": 112,
   "metadata": {
    "collapsed": false
   },
   "outputs": [],
   "source": [
    "goldF = open('./data/unitTest/dense/dense_gold.csv','w')\n",
    "goldF.write(','.join(['%1.15f' % d for d in Y_gold_dense]) + '\\n')\n",
    "goldF.close()"
   ]
  },
  {
   "cell_type": "code",
   "execution_count": 113,
   "metadata": {
    "collapsed": false
   },
   "outputs": [
    {
     "data": {
      "text/plain": [
       "array([ 0.,  1.])"
      ]
     },
     "execution_count": 113,
     "metadata": {},
     "output_type": "execute_result"
    }
   ],
   "source": [
    "Y_input_dense[0]"
   ]
  },
  {
   "cell_type": "code",
   "execution_count": 114,
   "metadata": {
    "collapsed": false
   },
   "outputs": [
    {
     "data": {
      "text/plain": [
       "array([-0.26505464,  0.81915766], dtype=float32)"
      ]
     },
     "execution_count": 114,
     "metadata": {},
     "output_type": "execute_result"
    }
   ],
   "source": [
    "Y_gold_dense"
   ]
  },
  {
   "cell_type": "code",
   "execution_count": 115,
   "metadata": {
    "collapsed": true
   },
   "outputs": [],
   "source": [
    "modelDense.save('./data/unitTest/dense/dense_model.h5')"
   ]
  },
  {
   "cell_type": "code",
   "execution_count": null,
   "metadata": {
    "collapsed": true
   },
   "outputs": [],
   "source": []
  }
 ],
 "metadata": {
  "anaconda-cloud": {},
  "kernelspec": {
   "display_name": "Python [default]",
   "language": "python",
   "name": "python3"
  },
  "language_info": {
   "codemirror_mode": {
    "name": "ipython",
    "version": 3
   },
   "file_extension": ".py",
   "mimetype": "text/x-python",
   "name": "python",
   "nbconvert_exporter": "python",
   "pygments_lexer": "ipython3",
   "version": "3.5.2"
  }
 },
 "nbformat": 4,
 "nbformat_minor": 1
}
