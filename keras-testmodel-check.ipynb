{
 "cells": [
  {
   "cell_type": "markdown",
   "metadata": {},
   "source": [
    "# 目的\n",
    "sampleモデルファイルの内容を確認するためのノート。\n"
   ]
  },
  {
   "cell_type": "code",
   "execution_count": 32,
   "metadata": {
    "collapsed": false
   },
   "outputs": [],
   "source": [
    "from keras.models import Sequential, load_model\n",
    "from keras.datasets import mnist\n",
    "from keras.layers import Dense, Dropout, Activation, Flatten, Embedding, Reshape,Convolution1D\n",
    "from keras.utils import np_utils\n",
    "from keras import backend as K\n",
    "import numpy as np"
   ]
  },
  {
   "cell_type": "markdown",
   "metadata": {},
   "source": [
    "サンプルとして、隠れ層一つの３層NNをMnistで作成する。"
   ]
  },
  {
   "cell_type": "code",
   "execution_count": 33,
   "metadata": {
    "collapsed": true
   },
   "outputs": [],
   "source": [
    "(X_train, y_train), (X_test, y_test) = mnist.load_data()"
   ]
  },
  {
   "cell_type": "code",
   "execution_count": 34,
   "metadata": {
    "collapsed": true
   },
   "outputs": [],
   "source": [
    "X_train = X_train.reshape(X_train.shape[0], 28, 28, 1)\n",
    "X_test = X_test.reshape(X_test.shape[0], 28, 28, 1)\n",
    "input_shape = (28, 28, 1)"
   ]
  },
  {
   "cell_type": "code",
   "execution_count": 35,
   "metadata": {
    "collapsed": false
   },
   "outputs": [],
   "source": [
    "X_train = X_train.astype('float32')\n",
    "X_test = X_test.astype('float32')\n",
    "X_train /= 255\n",
    "X_test /= 255"
   ]
  },
  {
   "cell_type": "code",
   "execution_count": 36,
   "metadata": {
    "collapsed": true
   },
   "outputs": [],
   "source": [
    "Y_train = np_utils.to_categorical(y_train, 10)"
   ]
  },
  {
   "cell_type": "code",
   "execution_count": 37,
   "metadata": {
    "collapsed": true
   },
   "outputs": [],
   "source": [
    "Y_test = np_utils.to_categorical(y_test, 10)"
   ]
  },
  {
   "cell_type": "code",
   "execution_count": 38,
   "metadata": {
    "collapsed": false
   },
   "outputs": [],
   "source": [
    "model = Sequential()\n",
    "model.add(Flatten(input_shape=input_shape))\n",
    "model.add(Dense(128,input_dim=28*28))\n",
    "model.add(Activation('relu'))\n",
    "model.add(Dense(10,input_dim=100))\n",
    "model.add(Activation('softmax'))\n",
    "model.compile(loss='categorical_crossentropy',optimizer='adadelta',metrics=['accuracy'])"
   ]
  },
  {
   "cell_type": "code",
   "execution_count": 39,
   "metadata": {
    "collapsed": false
   },
   "outputs": [
    {
     "name": "stdout",
     "output_type": "stream",
     "text": [
      "Train on 60000 samples, validate on 10000 samples\n",
      "Epoch 1/10\n",
      "60000/60000 [==============================] - 3s - loss: 0.4733 - acc: 0.8756 - val_loss: 0.2689 - val_acc: 0.9264\n",
      "Epoch 2/10\n",
      "60000/60000 [==============================] - 2s - loss: 0.2462 - acc: 0.9321 - val_loss: 0.2133 - val_acc: 0.9407\n",
      "Epoch 3/10\n",
      "60000/60000 [==============================] - 2s - loss: 0.1993 - acc: 0.9438 - val_loss: 0.1810 - val_acc: 0.9492\n",
      "Epoch 4/10\n",
      "60000/60000 [==============================] - 2s - loss: 0.1689 - acc: 0.9530 - val_loss: 0.1567 - val_acc: 0.9552\n",
      "Epoch 5/10\n",
      "60000/60000 [==============================] - 2s - loss: 0.1469 - acc: 0.9583 - val_loss: 0.1414 - val_acc: 0.9600\n",
      "Epoch 6/10\n",
      "60000/60000 [==============================] - 2s - loss: 0.1300 - acc: 0.9636 - val_loss: 0.1322 - val_acc: 0.9633\n",
      "Epoch 7/10\n",
      "60000/60000 [==============================] - 2s - loss: 0.1169 - acc: 0.9670 - val_loss: 0.1202 - val_acc: 0.9653\n",
      "Epoch 8/10\n",
      "60000/60000 [==============================] - 2s - loss: 0.1062 - acc: 0.9709 - val_loss: 0.1131 - val_acc: 0.9670\n",
      "Epoch 9/10\n",
      "60000/60000 [==============================] - 2s - loss: 0.0970 - acc: 0.9729 - val_loss: 0.1060 - val_acc: 0.9692\n",
      "Epoch 10/10\n",
      "60000/60000 [==============================] - 2s - loss: 0.0892 - acc: 0.9750 - val_loss: 0.1008 - val_acc: 0.9699\n"
     ]
    },
    {
     "data": {
      "text/plain": [
       "<keras.callbacks.History at 0x1f401fd84e0>"
      ]
     },
     "execution_count": 39,
     "metadata": {},
     "output_type": "execute_result"
    }
   ],
   "source": [
    "model.fit(X_train,Y_train,batch_size=100,nb_epoch=10,verbose=1,validation_data=(X_test,Y_test))"
   ]
  },
  {
   "cell_type": "code",
   "execution_count": null,
   "metadata": {
    "collapsed": true
   },
   "outputs": [],
   "source": []
  }
 ],
 "metadata": {
  "anaconda-cloud": {},
  "kernelspec": {
   "display_name": "Python [default]",
   "language": "python",
   "name": "python3"
  },
  "language_info": {
   "codemirror_mode": {
    "name": "ipython",
    "version": 3
   },
   "file_extension": ".py",
   "mimetype": "text/x-python",
   "name": "python",
   "nbconvert_exporter": "python",
   "pygments_lexer": "ipython3",
   "version": "3.5.2"
  }
 },
 "nbformat": 4,
 "nbformat_minor": 1
}
