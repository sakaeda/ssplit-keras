{
 "cells": [
  {
   "cell_type": "markdown",
   "metadata": {},
   "source": [
    "# 目的\n",
    "kerasでのssplit実験に向けた動作テスト用作業ノート。\n"
   ]
  },
  {
   "cell_type": "code",
   "execution_count": 2,
   "metadata": {
    "collapsed": false
   },
   "outputs": [
    {
     "name": "stderr",
     "output_type": "stream",
     "text": [
      "Using TensorFlow backend.\n"
     ]
    }
   ],
   "source": [
    "from keras.models import Sequential\n",
    "from keras.layers import Dense, Dropout, Activation, Flatten, Embedding, Reshape,Convolution1D\n",
    "from keras.utils import np_utils\n",
    "from keras import backend as K\n",
    "import numpy as np"
   ]
  },
  {
   "cell_type": "code",
   "execution_count": 52,
   "metadata": {
    "collapsed": false
   },
   "outputs": [],
   "source": [
    "model = Sequential()\n",
    "model.add(Embedding(10000, 4, input_length=5))\n",
    "model.add(Convolution1D(2, 3, border_mode='same', input_shape=(4, 5)))\n",
    "model.add(Convolution1D(3, 1, border_mode='same', input_shape=(2, 5)))\n",
    "model.add(Activation('relu'))\n",
    "model.compile(loss='categorical_crossentropy', optimizer='adadelta', metrics=['accuracy'])"
   ]
  },
  {
   "cell_type": "code",
   "execution_count": 53,
   "metadata": {
    "collapsed": false
   },
   "outputs": [],
   "source": [
    "X_train = np.random.randint(10,size=(1,5))\n",
    "y_train = np.random.randint(3,size=(1,5))"
   ]
  },
  {
   "cell_type": "code",
   "execution_count": 54,
   "metadata": {
    "collapsed": false
   },
   "outputs": [],
   "source": [
    "X_train = X_train.reshape(1,5)"
   ]
  },
  {
   "cell_type": "code",
   "execution_count": 55,
   "metadata": {
    "collapsed": false
   },
   "outputs": [],
   "source": [
    "Y_train = y_train.reshape(1,5)"
   ]
  },
  {
   "cell_type": "code",
   "execution_count": 56,
   "metadata": {
    "collapsed": false
   },
   "outputs": [
    {
     "data": {
      "text/plain": [
       "array([[8, 1, 2, 3, 6]])"
      ]
     },
     "execution_count": 56,
     "metadata": {},
     "output_type": "execute_result"
    }
   ],
   "source": [
    "X_train"
   ]
  },
  {
   "cell_type": "code",
   "execution_count": 57,
   "metadata": {
    "collapsed": false
   },
   "outputs": [],
   "source": [
    "Z_train = model.predict(X_train)"
   ]
  },
  {
   "cell_type": "code",
   "execution_count": 58,
   "metadata": {
    "collapsed": false
   },
   "outputs": [
    {
     "data": {
      "text/plain": [
       "(1, 5, 3)"
      ]
     },
     "execution_count": 58,
     "metadata": {},
     "output_type": "execute_result"
    }
   ],
   "source": [
    "Z_train.shape"
   ]
  },
  {
   "cell_type": "code",
   "execution_count": 59,
   "metadata": {
    "collapsed": false
   },
   "outputs": [
    {
     "data": {
      "text/plain": [
       "array([[[ 0.        ,  0.        ,  0.        ],\n",
       "        [ 0.        ,  0.        ,  0.00301621],\n",
       "        [ 0.00376692,  0.0062562 ,  0.00182627],\n",
       "        [ 0.00884872,  0.02521124,  0.        ],\n",
       "        [ 0.00534717,  0.0093908 ,  0.00150314]]], dtype=float32)"
      ]
     },
     "execution_count": 59,
     "metadata": {},
     "output_type": "execute_result"
    }
   ],
   "source": [
    "Z_train"
   ]
  },
  {
   "cell_type": "code",
   "execution_count": 67,
   "metadata": {
    "collapsed": false
   },
   "outputs": [],
   "source": [
    "Y_train = np_utils.to_categorical(Y_train[0],3)"
   ]
  },
  {
   "cell_type": "code",
   "execution_count": 70,
   "metadata": {
    "collapsed": false
   },
   "outputs": [],
   "source": [
    "Y_train = Y_train.reshape(1,5,3)"
   ]
  },
  {
   "cell_type": "code",
   "execution_count": 71,
   "metadata": {
    "collapsed": false
   },
   "outputs": [
    {
     "name": "stdout",
     "output_type": "stream",
     "text": [
      "Epoch 1/10\n",
      "1/1 [==============================] - 0s - loss: 7.0510 - acc: 0.4000\n",
      "Epoch 2/10\n",
      "1/1 [==============================] - 0s - loss: 1.1921e-07 - acc: 0.2000\n",
      "Epoch 3/10\n",
      "1/1 [==============================] - 0s - loss: 1.1921e-07 - acc: 0.2000\n",
      "Epoch 4/10\n",
      "1/1 [==============================] - 0s - loss: 1.1921e-07 - acc: 0.2000\n",
      "Epoch 5/10\n",
      "1/1 [==============================] - 0s - loss: 1.1921e-07 - acc: 0.2000\n",
      "Epoch 6/10\n",
      "1/1 [==============================] - 0s - loss: 1.1921e-07 - acc: 0.2000\n",
      "Epoch 7/10\n",
      "1/1 [==============================] - 0s - loss: 1.1921e-07 - acc: 0.2000\n",
      "Epoch 8/10\n",
      "1/1 [==============================] - 0s - loss: 1.1921e-07 - acc: 0.2000\n",
      "Epoch 9/10\n",
      "1/1 [==============================] - 0s - loss: 1.1921e-07 - acc: 0.2000\n",
      "Epoch 10/10\n",
      "1/1 [==============================] - 0s - loss: 1.1921e-07 - acc: 0.2000\n"
     ]
    },
    {
     "data": {
      "text/plain": [
       "<keras.callbacks.History at 0x1aed1798c18>"
      ]
     },
     "execution_count": 71,
     "metadata": {},
     "output_type": "execute_result"
    }
   ],
   "source": [
    "model.fit(X_train,Y_train,verbose=1)"
   ]
  },
  {
   "cell_type": "code",
   "execution_count": 73,
   "metadata": {
    "collapsed": false
   },
   "outputs": [
    {
     "name": "stdout",
     "output_type": "stream",
     "text": [
      "____________________________________________________________________________________________________\n",
      "Layer (type)                     Output Shape          Param #     Connected to                     \n",
      "====================================================================================================\n",
      "embedding_6 (Embedding)          (None, 5, 4)          40000       embedding_input_6[0][0]          \n",
      "____________________________________________________________________________________________________\n",
      "convolution1d_6 (Convolution1D)  (None, 5, 2)          26          embedding_6[0][0]                \n",
      "____________________________________________________________________________________________________\n",
      "convolution1d_7 (Convolution1D)  (None, 5, 3)          9           convolution1d_6[0][0]            \n",
      "____________________________________________________________________________________________________\n",
      "activation_6 (Activation)        (None, 5, 3)          0           convolution1d_7[0][0]            \n",
      "====================================================================================================\n",
      "Total params: 40035\n",
      "____________________________________________________________________________________________________\n"
     ]
    }
   ],
   "source": [
    "model.summary()"
   ]
  },
  {
   "cell_type": "markdown",
   "metadata": {},
   "source": [
    "各文字を畳み込みを用いて３クラスに分類し、crossentropyを損失関数として学習を行う準備は以上。\n",
    "あとは、計算過程の確認をして、想定通りに動くことを順次確認していく。\n",
    "\n",
    "## Embedding\n",
    "Embeddingは入力の文字ID列$D=d_0,d_1,\\cdots,d_M$に対して、対応する重み付きベクトル$\\vec{v_i} =NET_{Emb}(d_i)$が取得でき、その重みが更新されることが要求として定義できる。\n",
    "一層のmodelを作成して、任意の整数値を入力し、その順伝搬計算結果と重みベクトル配列の関係を確認する。"
   ]
  },
  {
   "cell_type": "code",
   "execution_count": 86,
   "metadata": {
    "collapsed": false
   },
   "outputs": [],
   "source": [
    "modelEmbedding = Sequential()\n",
    "modelEmbedding.add(Embedding(10000, 4, input_length= 5))\n",
    "modelEmbedding.compile(loss='categorical_crossentropy', optimizer='adadelta', metrics=['accuracy'])"
   ]
  },
  {
   "cell_type": "code",
   "execution_count": 87,
   "metadata": {
    "collapsed": true
   },
   "outputs": [],
   "source": [
    "X_input = np.array((1,2,3,4,5))\n",
    "X_input = X_input.reshape(1,5)"
   ]
  },
  {
   "cell_type": "code",
   "execution_count": 88,
   "metadata": {
    "collapsed": false
   },
   "outputs": [],
   "source": [
    "Y_output = modelEmbedding.predict(X_input)"
   ]
  },
  {
   "cell_type": "code",
   "execution_count": 89,
   "metadata": {
    "collapsed": false
   },
   "outputs": [
    {
     "data": {
      "text/plain": [
       "array([[[ 0.04938814, -0.02848035,  0.01871261,  0.04999331],\n",
       "        [-0.02083539,  0.03934289,  0.04745951, -0.03342854],\n",
       "        [ 0.02362558,  0.00391078, -0.0305439 ,  0.02737233],\n",
       "        [-0.02744209, -0.04912445, -0.02523756,  0.04928442],\n",
       "        [-0.03242682, -0.02965616,  0.04361621, -0.03901239]]], dtype=float32)"
      ]
     },
     "execution_count": 89,
     "metadata": {},
     "output_type": "execute_result"
    }
   ],
   "source": [
    "Y_output"
   ]
  },
  {
   "cell_type": "code",
   "execution_count": 92,
   "metadata": {
    "collapsed": false
   },
   "outputs": [],
   "source": [
    "embWeight = modelEmbedding.get_weights()"
   ]
  },
  {
   "cell_type": "code",
   "execution_count": 95,
   "metadata": {
    "collapsed": false
   },
   "outputs": [
    {
     "name": "stdout",
     "output_type": "stream",
     "text": [
      "[ 0.04938814 -0.02848035  0.01871261  0.04999331]\n",
      "[-0.02083539  0.03934289  0.04745951 -0.03342854]\n",
      "[ 0.02362558  0.00391078 -0.0305439   0.02737233]\n",
      "[-0.02744209 -0.04912445 -0.02523756  0.04928442]\n",
      "[-0.03242682 -0.02965616  0.04361621 -0.03901239]\n"
     ]
    }
   ],
   "source": [
    "print(embWeight[0][1])\n",
    "print(embWeight[0][2])\n",
    "print(embWeight[0][3])\n",
    "print(embWeight[0][4])\n",
    "print(embWeight[0][5])"
   ]
  },
  {
   "cell_type": "markdown",
   "metadata": {},
   "source": [
    "一致していることが確認できた。\n",
    "\n",
    "## Convolution 1D（中間層）\n",
    "$N\\times M$のデータを入力し、指定した出力チャネル数$\\text{Ch}_{output}$に応じた$\\text{Ch}_{output} \\times M$の出力が得られることが要求。また、その際に対象文字$v_i$を中心とした場合の前後$W$文字数の畳み込みとなっていることを確認する。"
   ]
  },
  {
   "cell_type": "code",
   "execution_count": 177,
   "metadata": {
    "collapsed": false
   },
   "outputs": [],
   "source": [
    "modelConvInter = Sequential()\n",
    "modelConvInter.add(Convolution1D(1,3, border_mode='same',input_shape=(5,4)))\n",
    "modelConvInter.compile(loss='categorical_crossentropy', optimizer='adadelta', metrics=['accuracy'])"
   ]
  },
  {
   "cell_type": "code",
   "execution_count": 178,
   "metadata": {
    "collapsed": false
   },
   "outputs": [
    {
     "data": {
      "text/plain": [
       "(1, 5, 4)"
      ]
     },
     "execution_count": 178,
     "metadata": {},
     "output_type": "execute_result"
    }
   ],
   "source": [
    "Y_output.shape"
   ]
  },
  {
   "cell_type": "code",
   "execution_count": 179,
   "metadata": {
    "collapsed": true
   },
   "outputs": [],
   "source": [
    "Z_output = modelConvInter.predict(Y_output)"
   ]
  },
  {
   "cell_type": "code",
   "execution_count": 180,
   "metadata": {
    "collapsed": false
   },
   "outputs": [
    {
     "data": {
      "text/plain": [
       "array([[[-0.04335489],\n",
       "        [ 0.01496695],\n",
       "        [-0.05528253],\n",
       "        [-0.0237015 ],\n",
       "        [-0.02779479]]], dtype=float32)"
      ]
     },
     "execution_count": 180,
     "metadata": {},
     "output_type": "execute_result"
    }
   ],
   "source": [
    "Z_output"
   ]
  },
  {
   "cell_type": "code",
   "execution_count": 181,
   "metadata": {
    "collapsed": true
   },
   "outputs": [],
   "source": [
    "convInterWeight = modelConvInter.get_weights()"
   ]
  },
  {
   "cell_type": "code",
   "execution_count": 182,
   "metadata": {
    "collapsed": false
   },
   "outputs": [],
   "source": [
    "convInterWeight = convInterWeight[0]"
   ]
  },
  {
   "cell_type": "code",
   "execution_count": 183,
   "metadata": {
    "collapsed": false
   },
   "outputs": [
    {
     "data": {
      "text/plain": [
       "array([[[[ 0.43841523],\n",
       "         [ 0.16669995],\n",
       "         [-0.46943867],\n",
       "         [-0.16445476]]],\n",
       "\n",
       "\n",
       "       [[[-0.14824647],\n",
       "         [ 0.42196745],\n",
       "         [-0.56606954],\n",
       "         [-0.54032665]]],\n",
       "\n",
       "\n",
       "       [[[ 0.24413842],\n",
       "         [ 0.41017324],\n",
       "         [-0.1336731 ],\n",
       "         [-0.2657384 ]]]], dtype=float32)"
      ]
     },
     "execution_count": 183,
     "metadata": {},
     "output_type": "execute_result"
    }
   ],
   "source": [
    "convInterWeight"
   ]
  },
  {
   "cell_type": "markdown",
   "metadata": {},
   "source": [
    "対象文字（中央）に対して作用される畳み込みベクトルは"
   ]
  },
  {
   "cell_type": "code",
   "execution_count": 203,
   "metadata": {
    "collapsed": false
   },
   "outputs": [
    {
     "data": {
      "text/plain": [
       "array([[[-0.14824647],\n",
       "        [ 0.42196745],\n",
       "        [-0.56606954],\n",
       "        [-0.54032665]]], dtype=float32)"
      ]
     },
     "execution_count": 203,
     "metadata": {},
     "output_type": "execute_result"
    }
   ],
   "source": [
    "convInterWeight[1]"
   ]
  },
  {
   "cell_type": "markdown",
   "metadata": {},
   "source": [
    "となる。borderの設定を```same```としているため、領域外はゼロパディングが行われれている。\n",
    "\n",
    "したがって、下記の入力データにおいて、"
   ]
  },
  {
   "cell_type": "code",
   "execution_count": 204,
   "metadata": {
    "collapsed": false
   },
   "outputs": [
    {
     "data": {
      "text/plain": [
       "array([[[ 0.04938814, -0.02848035,  0.01871261,  0.04999331],\n",
       "        [-0.02083539,  0.03934289,  0.04745951, -0.03342854],\n",
       "        [ 0.02362558,  0.00391078, -0.0305439 ,  0.02737233],\n",
       "        [-0.02744209, -0.04912445, -0.02523756,  0.04928442],\n",
       "        [-0.03242682, -0.02965616,  0.04361621, -0.03901239]]], dtype=float32)"
      ]
     },
     "execution_count": 204,
     "metadata": {},
     "output_type": "execute_result"
    }
   ],
   "source": [
    "Y_output"
   ]
  },
  {
   "cell_type": "markdown",
   "metadata": {},
   "source": [
    "１番目の文字に対しては、畳み込みフィルタの２列目と１番目が、３列目と２番目の要素ごとの積の総和と一致するはずである。"
   ]
  },
  {
   "cell_type": "code",
   "execution_count": 205,
   "metadata": {
    "collapsed": false
   },
   "outputs": [],
   "source": [
    "a = np.sum(np.multiply(convInterWeight[1].reshape(4), Y_output[0][0]))"
   ]
  },
  {
   "cell_type": "code",
   "execution_count": 206,
   "metadata": {
    "collapsed": false
   },
   "outputs": [],
   "source": [
    "b = np.sum(np.multiply(convInterWeight[2].reshape(4), Y_output[0][1]))"
   ]
  },
  {
   "cell_type": "code",
   "execution_count": 207,
   "metadata": {
    "collapsed": false
   },
   "outputs": [
    {
     "data": {
      "text/plain": [
       "True"
      ]
     },
     "execution_count": 207,
     "metadata": {},
     "output_type": "execute_result"
    }
   ],
   "source": [
    "a + b == Z_output[0][0][0]"
   ]
  },
  {
   "cell_type": "markdown",
   "metadata": {},
   "source": [
    "一致した。これでフィルタ数１個の場合は理解できた。\n",
    "\n",
    "次はフィルタ数が２個以上の場合、要素の順番と計算順序の理解を行う。"
   ]
  },
  {
   "cell_type": "code",
   "execution_count": 208,
   "metadata": {
    "collapsed": true
   },
   "outputs": [],
   "source": [
    "modelConvInter = Sequential()\n",
    "modelConvInter.add(Convolution1D(2,3, border_mode='same',input_shape=(5,4)))\n",
    "modelConvInter.compile(loss='categorical_crossentropy', optimizer='adadelta', metrics=['accuracy'])"
   ]
  },
  {
   "cell_type": "code",
   "execution_count": 209,
   "metadata": {
    "collapsed": true
   },
   "outputs": [],
   "source": [
    "Z_output = modelConvInter.predict(Y_output)"
   ]
  },
  {
   "cell_type": "code",
   "execution_count": 210,
   "metadata": {
    "collapsed": false
   },
   "outputs": [
    {
     "data": {
      "text/plain": [
       "array([[[ 0.01080527, -0.01493756],\n",
       "        [ 0.04832333,  0.0315503 ],\n",
       "        [-0.00605015,  0.01602747],\n",
       "        [-0.05350912,  0.01529768],\n",
       "        [-0.00605088, -0.00430768]]], dtype=float32)"
      ]
     },
     "execution_count": 210,
     "metadata": {},
     "output_type": "execute_result"
    }
   ],
   "source": [
    "Z_output"
   ]
  },
  {
   "cell_type": "code",
   "execution_count": 215,
   "metadata": {
    "collapsed": true
   },
   "outputs": [],
   "source": [
    "convInterWeight = modelConvInter.get_weights()[0]"
   ]
  },
  {
   "cell_type": "code",
   "execution_count": 226,
   "metadata": {
    "collapsed": false
   },
   "outputs": [
    {
     "data": {
      "text/plain": [
       "array([[  4.06886786e-01,   3.92321855e-01],\n",
       "       [  3.59058380e-04,   3.69453460e-01],\n",
       "       [  4.14357334e-01,  -3.89175117e-02],\n",
       "       [ -1.85132757e-01,   2.77574986e-01]], dtype=float32)"
      ]
     },
     "execution_count": 226,
     "metadata": {},
     "output_type": "execute_result"
    }
   ],
   "source": [
    "convInterWeight[0][0]"
   ]
  },
  {
   "cell_type": "code",
   "execution_count": 227,
   "metadata": {
    "collapsed": false
   },
   "outputs": [
    {
     "data": {
      "text/plain": [
       "0.00035905838"
      ]
     },
     "execution_count": 227,
     "metadata": {},
     "output_type": "execute_result"
    }
   ],
   "source": [
    "convInterWeight[0][0][1][0]"
   ]
  },
  {
   "cell_type": "code",
   "execution_count": 238,
   "metadata": {
    "collapsed": false
   },
   "outputs": [
    {
     "data": {
      "text/plain": [
       "array([[[[  4.06886786e-01,   3.92321855e-01],\n",
       "         [  3.59058380e-04,   3.69453460e-01],\n",
       "         [  4.14357334e-01,  -3.89175117e-02],\n",
       "         [ -1.85132757e-01,   2.77574986e-01]]],\n",
       "\n",
       "\n",
       "       [[[  1.96072370e-01,  -9.02287066e-02],\n",
       "         [  6.26488030e-02,  -2.48909131e-01],\n",
       "         [  3.72217327e-01,   1.12524480e-01],\n",
       "         [ -4.27949160e-01,   1.35087162e-01]]],\n",
       "\n",
       "\n",
       "       [[[ -3.78177166e-02,  -3.63870561e-02],\n",
       "         [  3.03483039e-01,  -4.41676974e-02],\n",
       "         [  3.44903797e-01,  -3.81215990e-01],\n",
       "         [  3.51839870e-01,   2.20098406e-01]]]], dtype=float32)"
      ]
     },
     "execution_count": 238,
     "metadata": {},
     "output_type": "execute_result"
    }
   ],
   "source": [
    "convInterWeight"
   ]
  },
  {
   "cell_type": "markdown",
   "metadata": {},
   "source": [
    "１番目のフィルタと１番目の文字の畳み込みは "
   ]
  },
  {
   "cell_type": "code",
   "execution_count": 256,
   "metadata": {
    "collapsed": false
   },
   "outputs": [],
   "source": [
    "s = 0\n",
    "for i in range(0,4):\n",
    "    s += convInterWeight[1][0][i][0] * Y_output[0][0][i]\n",
    "    s += convInterWeight[2][0][i][0] * Y_output[0][1][i]"
   ]
  },
  {
   "cell_type": "markdown",
   "metadata": {},
   "source": [
    "となる。この計算結果と"
   ]
  },
  {
   "cell_type": "code",
   "execution_count": 257,
   "metadata": {
    "collapsed": false
   },
   "outputs": [
    {
     "data": {
      "text/plain": [
       "0.010805272"
      ]
     },
     "execution_count": 257,
     "metadata": {},
     "output_type": "execute_result"
    }
   ],
   "source": [
    "Z_output[0][0][0]"
   ]
  },
  {
   "cell_type": "markdown",
   "metadata": {},
   "source": [
    "が一致することが条件。\n",
    "計算結果は"
   ]
  },
  {
   "cell_type": "code",
   "execution_count": 258,
   "metadata": {
    "collapsed": false
   },
   "outputs": [
    {
     "data": {
      "text/plain": [
       "0.010805272904690355"
      ]
     },
     "execution_count": 258,
     "metadata": {},
     "output_type": "execute_result"
    }
   ],
   "source": [
    "s"
   ]
  },
  {
   "cell_type": "markdown",
   "metadata": {},
   "source": [
    "であるため、一致することが確認できた。（精度の部分で一致していないが）\n",
    "\n",
    "２番目のフィルタとは、"
   ]
  },
  {
   "cell_type": "code",
   "execution_count": 259,
   "metadata": {
    "collapsed": true
   },
   "outputs": [],
   "source": [
    "s2 = 0\n",
    "for i in range(0,4):\n",
    "    s2 += convInterWeight[1][0][i][1] * Y_output[0][0][i]\n",
    "    s2 += convInterWeight[2][0][i][1] * Y_output[0][1][i]"
   ]
  },
  {
   "cell_type": "code",
   "execution_count": 260,
   "metadata": {
    "collapsed": false
   },
   "outputs": [
    {
     "data": {
      "text/plain": [
       "-0.014937565"
      ]
     },
     "execution_count": 260,
     "metadata": {},
     "output_type": "execute_result"
    }
   ],
   "source": [
    "Z_output[0][0][1]"
   ]
  },
  {
   "cell_type": "code",
   "execution_count": 261,
   "metadata": {
    "collapsed": false
   },
   "outputs": [
    {
     "data": {
      "text/plain": [
       "-0.014937565254513174"
      ]
     },
     "execution_count": 261,
     "metadata": {},
     "output_type": "execute_result"
    }
   ],
   "source": [
    "s2"
   ]
  },
  {
   "cell_type": "markdown",
   "metadata": {},
   "source": [
    "一致している。これによりConvolution1Dの計算過程について確認できた。"
   ]
  },
  {
   "cell_type": "markdown",
   "metadata": {},
   "source": [
    "## Flatten\n",
    "Flatten処理後のオーダーを確認する。"
   ]
  },
  {
   "cell_type": "code",
   "execution_count": 4,
   "metadata": {
    "collapsed": false
   },
   "outputs": [
    {
     "data": {
      "text/plain": [
       "array([[[1, 2, 3],\n",
       "        [4, 5, 6]]])"
      ]
     },
     "execution_count": 4,
     "metadata": {},
     "output_type": "execute_result"
    }
   ],
   "source": [
    "X_input = np.array([[1,2,3],[4,5,6]])\n",
    "X_input = X_input.reshape(1,2,3)\n",
    "X_input"
   ]
  },
  {
   "cell_type": "code",
   "execution_count": 5,
   "metadata": {
    "collapsed": true
   },
   "outputs": [],
   "source": [
    "modelFlatten = Sequential()\n",
    "modelFlatten.add(Flatten(input_shape=(2,3)))\n",
    "modelFlatten.compile(loss='categorical_crossentropy', optimizer='adadelta', metrics=['accuracy'])"
   ]
  },
  {
   "cell_type": "code",
   "execution_count": 6,
   "metadata": {
    "collapsed": false
   },
   "outputs": [
    {
     "data": {
      "text/plain": [
       "array([[ 1.,  2.,  3.,  4.,  5.,  6.]], dtype=float32)"
      ]
     },
     "execution_count": 6,
     "metadata": {},
     "output_type": "execute_result"
    }
   ],
   "source": [
    "Y_output = modelFlatten.predict(X_input)\n",
    "Y_output"
   ]
  },
  {
   "cell_type": "markdown",
   "metadata": {},
   "source": [
    "行の方向に沿って連結される。"
   ]
  },
  {
   "cell_type": "markdown",
   "metadata": {},
   "source": [
    "## 計算手順\n",
    "1. 入力文字列長をMに固定。不足分はゼロパディング。\n",
    "1. Embeddingで12chのベクトルにする。\n",
    "1. Convolution1Dで128ch, W幅の畳み込みを行う。出力は128 x M。\n",
    "1. Convolution1Dで3ch、幅＝１の畳み込みを行う。この計算はJuliaのLinearと同値。出力は3 x M\n",
    "1. 活性化。\n",
    "1. 誤差計算\n",
    "\n",
    "上記手順に従ったモデルを作成。文字列長は10,000としておく。"
   ]
  },
  {
   "cell_type": "code",
   "execution_count": 312,
   "metadata": {
    "collapsed": true
   },
   "outputs": [],
   "source": [
    "modelSsplit = Sequential()\n",
    "modelSsplit.add(Embedding(10000, 12, input_length=10000))\n",
    "modelSsplit.add(Convolution1D(128, 5, border_mode='same', input_shape=(10000, 12)))\n",
    "modelSsplit.add(Activation('relu'))\n",
    "modelSsplit.add(Convolution1D(3, 1, border_mode='same', input_shape = (10000, 128)))\n",
    "modelSsplit.add(Activation('softmax'))\n",
    "modelSsplit.compile(loss='categorical_crossentropy', optimizer='adadelta', metrics=['accuracy'])"
   ]
  },
  {
   "cell_type": "code",
   "execution_count": 313,
   "metadata": {
    "collapsed": false
   },
   "outputs": [],
   "source": [
    "X_input = np.array(range(0,10000))\n",
    "X_input = X_input.reshape(1,10000)"
   ]
  },
  {
   "cell_type": "code",
   "execution_count": 315,
   "metadata": {
    "collapsed": false
   },
   "outputs": [
    {
     "data": {
      "text/plain": [
       "array([[[ 0.33274397,  0.3334181 ,  0.33383793],\n",
       "        [ 0.33339199,  0.33323509,  0.33337295],\n",
       "        [ 0.33305755,  0.33347532,  0.3334671 ],\n",
       "        ..., \n",
       "        [ 0.3332012 ,  0.33334255,  0.33345628],\n",
       "        [ 0.33326969,  0.33356619,  0.33316413],\n",
       "        [ 0.33316839,  0.3337341 ,  0.33309755]]], dtype=float32)"
      ]
     },
     "execution_count": 315,
     "metadata": {},
     "output_type": "execute_result"
    }
   ],
   "source": [
    "modelSsplit.predict(X_input)"
   ]
  },
  {
   "cell_type": "code",
   "execution_count": 322,
   "metadata": {
    "collapsed": true
   },
   "outputs": [],
   "source": [
    "X_train = np.random.randint(10,size=(10,10000))\n",
    "y_train = np.random.randint(3,size=(10,10000))"
   ]
  },
  {
   "cell_type": "code",
   "execution_count": 323,
   "metadata": {
    "collapsed": false
   },
   "outputs": [],
   "source": [
    "Y_train = np_utils.to_categorical(y_train[0],3)"
   ]
  },
  {
   "cell_type": "code",
   "execution_count": 324,
   "metadata": {
    "collapsed": false
   },
   "outputs": [
    {
     "data": {
      "text/plain": [
       "array([1, 2, 1, ..., 0, 1, 2])"
      ]
     },
     "execution_count": 324,
     "metadata": {},
     "output_type": "execute_result"
    }
   ],
   "source": [
    "y_train.reshape(10*10000)"
   ]
  },
  {
   "cell_type": "code",
   "execution_count": 325,
   "metadata": {
    "collapsed": false
   },
   "outputs": [],
   "source": [
    "Y_train = np_utils.to_categorical(y_train.reshape(10*10000),3).reshape(10,10000,3)"
   ]
  },
  {
   "cell_type": "code",
   "execution_count": 326,
   "metadata": {
    "collapsed": false
   },
   "outputs": [
    {
     "name": "stdout",
     "output_type": "stream",
     "text": [
      "Epoch 1/10\n",
      "10/10 [==============================] - 0s - loss: 1.0986 - acc: 0.3315\n",
      "Epoch 2/10\n",
      "10/10 [==============================] - 0s - loss: 1.0986 - acc: 0.3312\n",
      "Epoch 3/10\n",
      "10/10 [==============================] - 0s - loss: 1.0986 - acc: 0.3320\n",
      "Epoch 4/10\n",
      "10/10 [==============================] - 0s - loss: 1.0986 - acc: 0.3337\n",
      "Epoch 5/10\n",
      "10/10 [==============================] - 0s - loss: 1.0986 - acc: 0.3345\n",
      "Epoch 6/10\n",
      "10/10 [==============================] - 0s - loss: 1.0986 - acc: 0.3350\n",
      "Epoch 7/10\n",
      "10/10 [==============================] - 0s - loss: 1.0986 - acc: 0.3363\n",
      "Epoch 8/10\n",
      "10/10 [==============================] - 0s - loss: 1.0986 - acc: 0.3378\n",
      "Epoch 9/10\n",
      "10/10 [==============================] - 0s - loss: 1.0986 - acc: 0.3382\n",
      "Epoch 10/10\n",
      "10/10 [==============================] - 0s - loss: 1.0986 - acc: 0.3381\n"
     ]
    },
    {
     "data": {
      "text/plain": [
       "<keras.callbacks.History at 0x1aed52adba8>"
      ]
     },
     "execution_count": 326,
     "metadata": {},
     "output_type": "execute_result"
    }
   ],
   "source": [
    "modelSsplit.fit(X_train,Y_train,nb_epoch=10, verbose=1)"
   ]
  },
  {
   "cell_type": "code",
   "execution_count": 327,
   "metadata": {
    "collapsed": false
   },
   "outputs": [
    {
     "data": {
      "text/plain": [
       "array([[[ 0.33209026,  0.33381799,  0.33409178],\n",
       "        [ 0.33263537,  0.33358216,  0.33378246],\n",
       "        [ 0.33215046,  0.33395809,  0.33389145],\n",
       "        ..., \n",
       "        [ 0.33236489,  0.33389416,  0.33374092],\n",
       "        [ 0.33237731,  0.33395407,  0.33366862],\n",
       "        [ 0.33256733,  0.33403474,  0.33339787]]], dtype=float32)"
      ]
     },
     "execution_count": 327,
     "metadata": {},
     "output_type": "execute_result"
    }
   ],
   "source": [
    "modelSsplit.predict(X_input)"
   ]
  },
  {
   "cell_type": "markdown",
   "metadata": {},
   "source": [
    "# 実験準備\n",
    "ネットワークの構築方法、学習の設定などについては確認できた。次は、実際の実験に向けた準備を行う。\n",
    "\n",
    "要求は下記のとおり。\n",
    "- 文字のルックアップテーブル用データ\n",
    "- コーパスデータ"
   ]
  },
  {
   "cell_type": "code",
   "execution_count": null,
   "metadata": {
    "collapsed": true
   },
   "outputs": [],
   "source": []
  }
 ],
 "metadata": {
  "anaconda-cloud": {},
  "kernelspec": {
   "display_name": "Python [default]",
   "language": "python",
   "name": "python3"
  },
  "language_info": {
   "codemirror_mode": {
    "name": "ipython",
    "version": 3
   },
   "file_extension": ".py",
   "mimetype": "text/x-python",
   "name": "python",
   "nbconvert_exporter": "python",
   "pygments_lexer": "ipython3",
   "version": "3.5.2"
  }
 },
 "nbformat": 4,
 "nbformat_minor": 1
}
